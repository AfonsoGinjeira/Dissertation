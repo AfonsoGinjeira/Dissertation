{
 "cells": [
  {
   "cell_type": "code",
   "execution_count": 2,
   "id": "9bafbf10",
   "metadata": {},
   "outputs": [],
   "source": [
    "import matplotlib.pyplot as plt\n",
    "import numpy as np\n",
    "import PIL\n",
    "import os\n",
    "import tensorflow as tf\n",
    "from tensorflow import keras\n",
    "from tensorflow.keras.models import Sequential\n",
    "from tensorflow.keras.optimizers import Adam\n",
    "from tensorflow.keras import layers\n",
    "from tensorflow.keras.layers import Flatten, Dense"
   ]
  },
  {
   "cell_type": "code",
   "execution_count": 3,
   "id": "df03598e",
   "metadata": {},
   "outputs": [
    {
     "name": "stdout",
     "output_type": "stream",
     "text": [
      "C:\\Users\\Afonso\\anaconda3\\envs\\hello-tf\\Img\n"
     ]
    }
   ],
   "source": [
    "import pathlib\n",
    "dir = r'C:\\Users\\Afonso\\anaconda3\\envs\\hello-tf\\Img'\n",
    "data_dir = tf.keras.utils.get_file('Chars', origin=dir, untar=True)\n",
    "data_dir = pathlib.Path(data_dir)\n",
    "data_dir = dir\n",
    "print(data_dir)"
   ]
  },
  {
   "cell_type": "code",
   "execution_count": 4,
   "id": "b0bcae89",
   "metadata": {},
   "outputs": [
    {
     "name": "stdout",
     "output_type": "stream",
     "text": [
      "Found 3410 files belonging to 62 classes.\n",
      "Using 2728 files for training.\n"
     ]
    }
   ],
   "source": [
    "img_height,img_width=180,180\n",
    "batch_size=32\n",
    "train_ds = tf.keras.preprocessing.image_dataset_from_directory(\n",
    "  data_dir,\n",
    "  validation_split=0.2,\n",
    "  subset=\"training\",\n",
    "  seed=123,\n",
    "  label_mode = 'categorical',\n",
    "  image_size=(img_height, img_width),\n",
    "  batch_size=batch_size)"
   ]
  },
  {
   "cell_type": "code",
   "execution_count": 5,
   "id": "8d718181",
   "metadata": {},
   "outputs": [
    {
     "name": "stdout",
     "output_type": "stream",
     "text": [
      "Found 3410 files belonging to 62 classes.\n",
      "Using 682 files for validation.\n"
     ]
    }
   ],
   "source": [
    "val_ds = tf.keras.preprocessing.image_dataset_from_directory(\n",
    "  data_dir,\n",
    "  validation_split=0.2,\n",
    "  subset=\"validation\",\n",
    "  seed=123,\n",
    "  label_mode = 'categorical',  \n",
    "  image_size=(img_height, img_width),\n",
    "  batch_size=batch_size)"
   ]
  },
  {
   "cell_type": "code",
   "execution_count": 6,
   "id": "d72bcd18",
   "metadata": {},
   "outputs": [],
   "source": [
    "dir = r'C:\\Users\\Afonso\\anaconda3\\envs\\hello-tf\\ResNet50'\n",
    "test_dir = os.path.join(dir,'test')"
   ]
  },
  {
   "cell_type": "code",
   "execution_count": 7,
   "id": "bdaff4e6",
   "metadata": {},
   "outputs": [
    {
     "name": "stdout",
     "output_type": "stream",
     "text": [
      "Found 3410 files belonging to 62 classes.\n"
     ]
    }
   ],
   "source": [
    "test_ds = tf.keras.preprocessing.image_dataset_from_directory(\n",
    "  data_dir,\n",
    "  seed=123,\n",
    "  image_size=(img_height, img_width),\n",
    "  label_mode = 'categorical',\n",
    "  batch_size=batch_size)"
   ]
  },
  {
   "cell_type": "code",
   "execution_count": 8,
   "id": "686b47dc",
   "metadata": {},
   "outputs": [],
   "source": [
    "## Autotune \n",
    "AUTOTUNE = tf.data.AUTOTUNE\n",
    "\n",
    "train_ds = train_ds.prefetch(buffer_size=AUTOTUNE)\n",
    "valid_ds = val_ds.prefetch(buffer_size=AUTOTUNE)\n",
    "test_ds = test_ds.prefetch(buffer_size=AUTOTUNE)"
   ]
  },
  {
   "cell_type": "code",
   "execution_count": 9,
   "id": "715a60fb",
   "metadata": {},
   "outputs": [],
   "source": [
    "resnet_model = Sequential()\n",
    "\n",
    "pretrained_model= tf.keras.applications.ResNet50(include_top=False,\n",
    "                   input_shape=(180,180,3),\n",
    "                   pooling='avg',classes=62,\n",
    "                   weights='imagenet')\n",
    "\n",
    "for layer in pretrained_model.layers:\n",
    "        layer.trainable=False\n",
    "\n",
    "resnet_model.add(pretrained_model)\n",
    "\n",
    "resnet_model.add(Flatten())\n",
    "resnet_model.add(Dense(512, activation='relu'))\n",
    "resnet_model.add(Dense(62, activation='softmax'))"
   ]
  },
  {
   "cell_type": "code",
   "execution_count": null,
   "id": "75eb39d0",
   "metadata": {},
   "outputs": [],
   "source": []
  },
  {
   "cell_type": "code",
   "execution_count": 10,
   "id": "4d21222e",
   "metadata": {},
   "outputs": [
    {
     "name": "stdout",
     "output_type": "stream",
     "text": [
      "Model: \"sequential\"\n",
      "_________________________________________________________________\n",
      " Layer (type)                Output Shape              Param #   \n",
      "=================================================================\n",
      " resnet50 (Functional)       (None, 2048)              23587712  \n",
      "                                                                 \n",
      " flatten (Flatten)           (None, 2048)              0         \n",
      "                                                                 \n",
      " dense (Dense)               (None, 512)               1049088   \n",
      "                                                                 \n",
      " dense_1 (Dense)             (None, 62)                31806     \n",
      "                                                                 \n",
      "=================================================================\n",
      "Total params: 24,668,606\n",
      "Trainable params: 1,080,894\n",
      "Non-trainable params: 23,587,712\n",
      "_________________________________________________________________\n"
     ]
    }
   ],
   "source": [
    "resnet_model.summary()"
   ]
  },
  {
   "cell_type": "code",
   "execution_count": 12,
   "id": "5f65a5ed",
   "metadata": {},
   "outputs": [],
   "source": [
    "resnet_model.compile(optimizer=Adam(learning_rate=0.0001),loss=tf.keras.losses.CategoricalCrossentropy(from_logits=True),metrics=['accuracy'])"
   ]
  },
  {
   "cell_type": "code",
   "execution_count": 13,
   "id": "055db339",
   "metadata": {},
   "outputs": [
    {
     "name": "stderr",
     "output_type": "stream",
     "text": [
      "C:\\Users\\Afonso\\AppData\\Roaming\\Python\\Python37\\site-packages\\tensorflow\\python\\util\\dispatch.py:1096: UserWarning: \"`categorical_crossentropy` received `from_logits=True`, but the `output` argument was produced by a sigmoid or softmax activation and thus does not represent logits. Was this intended?\"\n",
      "  return dispatch_target(*args, **kwargs)\n"
     ]
    },
    {
     "name": "stdout",
     "output_type": "stream",
     "text": [
      "22/22 [==============================] - 51s 2s/step - loss: 5.0061 - accuracy: 0.0132\n"
     ]
    }
   ],
   "source": [
    "loss0, accuracy0 = resnet_model.evaluate(val_ds)"
   ]
  },
  {
   "cell_type": "code",
   "execution_count": 14,
   "id": "b030bf74",
   "metadata": {},
   "outputs": [
    {
     "name": "stdout",
     "output_type": "stream",
     "text": [
      "Epoch 1/10\n",
      "86/86 [==============================] - 278s 3s/step - loss: 3.6037 - accuracy: 0.1778 - val_loss: 2.8936 - val_accuracy: 0.2713\n",
      "Epoch 2/10\n",
      "86/86 [==============================] - 299s 3s/step - loss: 2.2871 - accuracy: 0.4707 - val_loss: 2.1134 - val_accuracy: 0.4809\n",
      "Epoch 3/10\n",
      "86/86 [==============================] - 270s 3s/step - loss: 1.7075 - accuracy: 0.6045 - val_loss: 1.7676 - val_accuracy: 0.5469\n",
      "Epoch 4/10\n",
      "86/86 [==============================] - 310s 4s/step - loss: 1.3917 - accuracy: 0.6756 - val_loss: 1.5469 - val_accuracy: 0.5865\n",
      "Epoch 5/10\n",
      "86/86 [==============================] - 353s 4s/step - loss: 1.1996 - accuracy: 0.7097 - val_loss: 1.4067 - val_accuracy: 0.6290\n",
      "Epoch 6/10\n",
      "86/86 [==============================] - 316s 4s/step - loss: 1.0457 - accuracy: 0.7474 - val_loss: 1.2797 - val_accuracy: 0.6525\n",
      "Epoch 7/10\n",
      "86/86 [==============================] - 329s 4s/step - loss: 0.9453 - accuracy: 0.7687 - val_loss: 1.2143 - val_accuracy: 0.6598\n",
      "Epoch 8/10\n",
      "86/86 [==============================] - 343s 4s/step - loss: 0.8526 - accuracy: 0.7925 - val_loss: 1.1413 - val_accuracy: 0.6672\n",
      "Epoch 9/10\n",
      "86/86 [==============================] - 276s 3s/step - loss: 0.7667 - accuracy: 0.8035 - val_loss: 1.0969 - val_accuracy: 0.6848\n",
      "Epoch 10/10\n",
      "86/86 [==============================] - 326s 4s/step - loss: 0.7131 - accuracy: 0.8237 - val_loss: 1.0643 - val_accuracy: 0.6906\n"
     ]
    }
   ],
   "source": [
    "history = resnet_model.fit(train_ds, validation_data=val_ds, epochs=10)"
   ]
  },
  {
   "cell_type": "code",
   "execution_count": 15,
   "id": "872fac47",
   "metadata": {},
   "outputs": [
    {
     "name": "stdout",
     "output_type": "stream",
     "text": [
      "Mean Validation Accuracy: 0.586950147151947\n",
      "Mean Training Accuracy:0.6574046924710274\n",
      "Mean Validation Loss: 1.5524801850318908\n",
      "Mean Training Loss:1.4512987196445466\n"
     ]
    },
    {
     "data": {
      "image/png": "[encoded data removed]",
      "text/plain": [
       "<Figure size 576x1080 with 2 Axes>"
      ]
     },
     "metadata": {
      "needs_background": "light"
     },
     "output_type": "display_data"
    }
   ],
   "source": [
    "acc = history.history['accuracy']\n",
    "val_acc = history.history['val_accuracy']\n",
    "\n",
    "loss = history.history['loss']\n",
    "val_loss = history.history['val_loss']\n",
    "\n",
    "#Means of accuracy\n",
    "sum_acc = 0\n",
    "for i in range(len(acc)):\n",
    "    sum_acc = sum_acc + acc[i]\n",
    "    acc_mean = sum_acc / len(acc)\n",
    "\n",
    "sum_val_acc = 0\n",
    "for i in range(len(val_acc)):\n",
    "    sum_val_acc = sum_val_acc + val_acc[i]\n",
    "    val_acc_mean = sum_val_acc / len(val_acc)\n",
    "\n",
    "print('Mean Validation Accuracy: ' + str(val_acc_mean))\n",
    "print('Mean Training Accuracy:' + str(acc_mean))\n",
    "\n",
    "#Means of Loss\n",
    "sum_loss = 0\n",
    "for i in range(len(loss)):\n",
    "    sum_loss = sum_loss + loss[i]\n",
    "    loss_mean = sum_loss / len(loss)\n",
    "\n",
    "sum_val_loss = 0\n",
    "for i in range(len(val_loss)):\n",
    "    sum_val_loss = sum_val_loss + val_loss[i]\n",
    "    val_loss_mean = sum_val_loss / len(val_loss)\n",
    "\n",
    "print('Mean Validation Loss: ' + str(val_loss_mean))\n",
    "print('Mean Training Loss:' + str(loss_mean))\n",
    "\n",
    "\n",
    "plt.figure(figsize=(8, 15))\n",
    "plt.subplot(2, 1, 1)\n",
    "plt.plot(acc, label='Training Accuracy')\n",
    "plt.plot(val_acc, label='Validation Accuracy')\n",
    "plt.legend(loc='lower right')\n",
    "plt.ylabel('Accuracy')\n",
    "plt.ylim([min(plt.ylim()),1])\n",
    "plt.title('Training and Validation Accuracy - ResNet50')\n",
    "plt.xlabel('epoch')\n",
    "\n",
    "plt.subplot(2, 1, 2)\n",
    "plt.plot(loss, label='Training Loss')\n",
    "plt.plot(val_loss, label='Validation Loss')\n",
    "plt.legend(loc='upper right')\n",
    "plt.ylabel('Cross Entropy')\n",
    "#plt.ylim([0,1.0])\n",
    "plt.ylim([min(plt.ylim()),4])\n",
    "plt.title('Training and Validation Loss - ResNet50')\n",
    "plt.xlabel('epoch')\n",
    "plt.show()"
   ]
  },
  {
   "cell_type": "code",
   "execution_count": 16,
   "id": "90681205",
   "metadata": {},
   "outputs": [],
   "source": [
    "## Fine Tunning \n",
    "resnet_model.trainable = True ##unfreeze top layers "
   ]
  },
  {
   "cell_type": "code",
   "execution_count": 17,
   "id": "bd7aee4d",
   "metadata": {},
   "outputs": [
    {
     "name": "stdout",
     "output_type": "stream",
     "text": [
      "Number of layers in the base model:  4\n"
     ]
    }
   ],
   "source": [
    "# Let's take a look to see how many layers are in the base model\n",
    "print(\"Number of layers in the base model: \", len(resnet_model.layers))\n",
    "\n",
    "# Fine-tune from this layer onwards\n",
    "fine_tune_at = 1\n",
    "\n",
    "# Freeze all the layers before the `fine_tune_at` layer\n",
    "for layer in resnet_model.layers[:fine_tune_at]:\n",
    "        layer.trainable =  False"
   ]
  },
  {
   "cell_type": "code",
   "execution_count": 18,
   "id": "f873ae9f",
   "metadata": {},
   "outputs": [],
   "source": [
    "resnet_model.compile(loss=tf.keras.losses.CategoricalCrossentropy(from_logits=True),\n",
    "              optimizer = tf.keras.optimizers.RMSprop(learning_rate=0.0001),\n",
    "              metrics=['accuracy'])"
   ]
  },
  {
   "cell_type": "code",
   "execution_count": 19,
   "id": "723b5f5d",
   "metadata": {},
   "outputs": [
    {
     "name": "stdout",
     "output_type": "stream",
     "text": [
      "Model: \"sequential\"\n",
      "_________________________________________________________________\n",
      " Layer (type)                Output Shape              Param #   \n",
      "=================================================================\n",
      " resnet50 (Functional)       (None, 2048)              23587712  \n",
      "                                                                 \n",
      " flatten (Flatten)           (None, 2048)              0         \n",
      "                                                                 \n",
      " dense (Dense)               (None, 512)               1049088   \n",
      "                                                                 \n",
      " dense_1 (Dense)             (None, 62)                31806     \n",
      "                                                                 \n",
      "=================================================================\n",
      "Total params: 24,668,606\n",
      "Trainable params: 1,080,894\n",
      "Non-trainable params: 23,587,712\n",
      "_________________________________________________________________\n"
     ]
    }
   ],
   "source": [
    "resnet_model.summary()"
   ]
  },
  {
   "cell_type": "code",
   "execution_count": 20,
   "id": "2717dedb",
   "metadata": {},
   "outputs": [
    {
     "name": "stdout",
     "output_type": "stream",
     "text": [
      "Epoch 10/20\n",
      "86/86 [==============================] - 325s 4s/step - loss: 0.6795 - accuracy: 0.8255 - val_loss: 1.0730 - val_accuracy: 0.6818\n",
      "Epoch 11/20\n",
      "86/86 [==============================] - 370s 4s/step - loss: 0.6153 - accuracy: 0.8493 - val_loss: 1.0316 - val_accuracy: 0.6979\n",
      "Epoch 12/20\n",
      "86/86 [==============================] - 324s 4s/step - loss: 0.5663 - accuracy: 0.8548 - val_loss: 0.9910 - val_accuracy: 0.7111\n",
      "Epoch 13/20\n",
      "86/86 [==============================] - 309s 4s/step - loss: 0.5282 - accuracy: 0.8651 - val_loss: 0.9974 - val_accuracy: 0.7214\n",
      "Epoch 14/20\n",
      "86/86 [==============================] - 332s 4s/step - loss: 0.4893 - accuracy: 0.8801 - val_loss: 0.9735 - val_accuracy: 0.7097\n",
      "Epoch 15/20\n",
      "86/86 [==============================] - 346s 4s/step - loss: 0.4593 - accuracy: 0.8845 - val_loss: 0.9266 - val_accuracy: 0.7434\n",
      "Epoch 16/20\n",
      "86/86 [==============================] - 343s 4s/step - loss: 0.4258 - accuracy: 0.8930 - val_loss: 0.9088 - val_accuracy: 0.7419\n",
      "Epoch 17/20\n",
      "86/86 [==============================] - 313s 4s/step - loss: 0.4032 - accuracy: 0.9029 - val_loss: 0.9127 - val_accuracy: 0.7229\n",
      "Epoch 18/20\n",
      "86/86 [==============================] - 332s 4s/step - loss: 0.3761 - accuracy: 0.9098 - val_loss: 0.8960 - val_accuracy: 0.7346\n",
      "Epoch 19/20\n",
      "86/86 [==============================] - 307s 4s/step - loss: 0.3539 - accuracy: 0.9157 - val_loss: 0.9180 - val_accuracy: 0.7214\n",
      "Epoch 20/20\n",
      "86/86 [==============================] - 275s 3s/step - loss: 0.3355 - accuracy: 0.9223 - val_loss: 0.8687 - val_accuracy: 0.7449\n"
     ]
    }
   ],
   "source": [
    "history_fine = resnet_model.fit(train_ds,\n",
    "                         epochs=20,\n",
    "                         initial_epoch=history.epoch[-1],\n",
    "                         validation_data=val_ds)"
   ]
  },
  {
   "cell_type": "code",
   "execution_count": 21,
   "id": "db397302",
   "metadata": {},
   "outputs": [],
   "source": [
    "acc = history_fine.history['accuracy']\n",
    "val_acc = history_fine.history['val_accuracy']\n",
    "\n",
    "loss = history_fine.history['loss']\n",
    "val_loss = history_fine.history['val_loss']"
   ]
  },
  {
   "cell_type": "code",
   "execution_count": 23,
   "id": "bdb78f03",
   "metadata": {
    "scrolled": false
   },
   "outputs": [
    {
     "name": "stdout",
     "output_type": "stream",
     "text": [
      "Mean Validation Accuracy: 0.7210077372464266\n",
      "Mean Training Accuracy:0.8820981112393466\n",
      "Mean Validation Loss: 0.9542999159206044\n",
      "Mean Training Loss:0.47567064653743396\n"
     ]
    },
    {
     "data": {
      "image/png": "[encoded data removed]",
      "text/plain": [
       "<Figure size 576x1080 with 2 Axes>"
      ]
     },
     "metadata": {
      "needs_background": "light"
     },
     "output_type": "display_data"
    }
   ],
   "source": [
    "#Means of accuracy\n",
    "sum_acc = 0\n",
    "for i in range(len(acc)):\n",
    "    sum_acc = sum_acc + acc[i]\n",
    "    acc_mean = sum_acc / len(acc)\n",
    "\n",
    "sum_val_acc = 0\n",
    "for i in range(len(val_acc)):\n",
    "    sum_val_acc = sum_val_acc + val_acc[i]\n",
    "    val_acc_mean = sum_val_acc / len(val_acc)\n",
    "\n",
    "print('Mean Validation Accuracy: ' + str(val_acc_mean))\n",
    "print('Mean Training Accuracy:' + str(acc_mean))\n",
    "\n",
    "#Means of Loss\n",
    "sum_loss = 0\n",
    "for i in range(len(loss)):\n",
    "    sum_loss = sum_loss + loss[i]\n",
    "    loss_mean = sum_loss / len(loss)\n",
    "\n",
    "sum_val_loss = 0\n",
    "for i in range(len(val_loss)):\n",
    "    sum_val_loss = sum_val_loss + val_loss[i]\n",
    "    val_loss_mean = sum_val_loss / len(val_loss)\n",
    "\n",
    "print('Mean Validation Loss: ' + str(val_loss_mean))\n",
    "print('Mean Training Loss:' + str(loss_mean))\n",
    "\n",
    "\n",
    "\n",
    "plt.figure(figsize=(8, 15))\n",
    "plt.subplot(2, 1, 1)\n",
    "plt.plot(acc, label='Training Accuracy')\n",
    "plt.plot(val_acc, label='Validation Accuracy')\n",
    "plt.ylim([0.5, 1])\n",
    "plt.plot([10-1,10-1],\n",
    "          plt.ylim(), label='Start Fine Tuning')\n",
    "plt.legend(loc='lower right')\n",
    "plt.title('Training and Validation Accuracy - ResNet50')\n",
    "\n",
    "plt.subplot(2, 1, 2)\n",
    "plt.plot(loss, label='Training Loss')\n",
    "plt.plot(val_loss, label='Validation Loss')\n",
    "plt.ylim([0, 2.0])\n",
    "plt.plot([10-1,10-1],\n",
    "         plt.ylim(), label='Start Fine Tuning')\n",
    "plt.legend(loc='upper right')\n",
    "plt.title('Training and Validation Loss - ResNet50')\n",
    "plt.xlabel('epoch')\n",
    "plt.show()"
   ]
  },
  {
   "cell_type": "code",
   "execution_count": 24,
   "id": "939eee39",
   "metadata": {},
   "outputs": [
    {
     "name": "stdout",
     "output_type": "stream",
     "text": [
      "107/107 [==============================] - 295s 3s/step - loss: 0.4278 - accuracy: 0.8894\n",
      "Test loss: 0.427775114774704\n",
      "Test accuracy: 0.8894428014755249\n"
     ]
    }
   ],
   "source": [
    "score = resnet_model.evaluate(test_ds)\n",
    "print('Test loss:', score[0]) \n",
    "print('Test accuracy:', score[1])"
   ]
  },
  {
   "cell_type": "code",
   "execution_count": 25,
   "id": "b559aa18",
   "metadata": {},
   "outputs": [
    {
     "name": "stdout",
     "output_type": "stream",
     "text": [
      "Predictions:\n",
      " [1 1 1 ... 1 1 1]\n",
      "Labels:\n",
      " [[0. 0. 0. ... 0. 0. 0.]\n",
      " [0. 0. 0. ... 0. 0. 0.]\n",
      " [0. 0. 0. ... 0. 0. 1.]\n",
      " ...\n",
      " [0. 0. 0. ... 0. 0. 0.]\n",
      " [0. 0. 0. ... 0. 0. 0.]\n",
      " [0. 0. 0. ... 0. 1. 0.]]\n"
     ]
    }
   ],
   "source": [
    "#Retrieve a batch of images from the test set\n",
    "image_batch, label_batch = test_ds.as_numpy_iterator().next()\n",
    "predictions = resnet_model.predict_on_batch(image_batch).flatten()\n",
    "\n",
    "# Apply a sigmoid since our model returns logits\n",
    "predictions = tf.nn.sigmoid(predictions)\n",
    "predictions = tf.where(predictions < 0.5, 0, 1)\n",
    "\n",
    "print('Predictions:\\n', predictions.numpy())\n",
    "print('Labels:\\n', label_batch)\n",
    "\n",
    "#class_names = train_ds.class_names\n",
    "#print(class_names)\n",
    "\n",
    "#plt.figure(figsize=(10, 10))\n",
    "#for i in range(9):\n",
    "#  ax = plt.subplot(3, 3, i + 1)\n",
    "#  plt.imshow(image_batch[i].astype(\"uint8\"))\n",
    "#  plt.title(class_names[predictions[i]])\n",
    "#  plt.axis(\"off\")"
   ]
  },
  {
   "cell_type": "code",
   "execution_count": null,
   "id": "6304e226",
   "metadata": {},
   "outputs": [],
   "source": []
  },
  {
   "cell_type": "code",
   "execution_count": null,
   "id": "a6d81807",
   "metadata": {},
   "outputs": [],
   "source": []
  }
 ],
 "metadata": {
  "kernelspec": {
   "display_name": "Python 3 (ipykernel)",
   "language": "python",
   "name": "python3"
  },
  "language_info": {
   "codemirror_mode": {
    "name": "ipython",
    "version": 3
   },
   "file_extension": ".py",
   "mimetype": "text/x-python",
   "name": "python",
   "nbconvert_exporter": "python",
   "pygments_lexer": "ipython3",
   "version": "3.7.11"
  }
 },
 "nbformat": 4,
 "nbformat_minor": 5
}
