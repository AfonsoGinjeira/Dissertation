{
 "cells": [
  {
   "cell_type": "code",
   "execution_count": 29,
   "id": "a05914eb",
   "metadata": {},
   "outputs": [],
   "source": [
    "import matplotlib.pyplot as plt\n",
    "import numpy as np\n",
    "import os\n",
    "import PIL\n",
    "import tensorflow as tf\n",
    "\n",
    "from tensorflow import keras\n",
    "from tensorflow.keras import layers\n",
    "from tensorflow.keras.models import Sequential\n",
    "from tensorflow.keras.preprocessing import image_dataset_from_directory \n",
    "from tensorflow.keras.layers import Flatten, Dense, Dropout\n",
    "from tensorflow.keras.optimizers import Adam"
   ]
  },
  {
   "cell_type": "code",
   "execution_count": 2,
   "id": "31bf724d",
   "metadata": {},
   "outputs": [
    {
     "name": "stdout",
     "output_type": "stream",
     "text": [
      "C:\\Users\\Afonso\\anaconda3\\envs\\hello-tf\\Img\n"
     ]
    }
   ],
   "source": [
    "import pathlib\n",
    "dir = r'C:\\Users\\Afonso\\anaconda3\\envs\\hello-tf\\Img'\n",
    "data_dir = tf.keras.utils.get_file('Chars', origin=dir, untar=True)\n",
    "data_dir = pathlib.Path(data_dir)\n",
    "data_dir = dir\n",
    "print(data_dir)"
   ]
  },
  {
   "cell_type": "code",
   "execution_count": 3,
   "id": "85017b63",
   "metadata": {},
   "outputs": [],
   "source": [
    "img_height,img_width=180,180\n",
    "batch_size=32"
   ]
  },
  {
   "cell_type": "code",
   "execution_count": 4,
   "id": "0f07e76e",
   "metadata": {},
   "outputs": [
    {
     "name": "stdout",
     "output_type": "stream",
     "text": [
      "Found 3410 files belonging to 62 classes.\n",
      "Using 2728 files for training.\n"
     ]
    }
   ],
   "source": [
    "train_ds = tf.keras.preprocessing.image_dataset_from_directory(\n",
    "  data_dir,\n",
    "  validation_split=0.2,\n",
    "  subset=\"training\",\n",
    "  seed=123,\n",
    "  label_mode = 'categorical',\n",
    "  image_size=(img_height, img_width),\n",
    "  batch_size=batch_size)"
   ]
  },
  {
   "cell_type": "code",
   "execution_count": 5,
   "id": "0e06b039",
   "metadata": {},
   "outputs": [
    {
     "name": "stdout",
     "output_type": "stream",
     "text": [
      "Found 3410 files belonging to 62 classes.\n",
      "Using 682 files for validation.\n"
     ]
    }
   ],
   "source": [
    "val_ds = tf.keras.preprocessing.image_dataset_from_directory(\n",
    "  data_dir,\n",
    "  validation_split=0.2,\n",
    "  subset=\"validation\",\n",
    "  seed=123,\n",
    "  label_mode = 'categorical',  \n",
    "  image_size=(img_height, img_width),\n",
    "  batch_size=batch_size)"
   ]
  },
  {
   "cell_type": "code",
   "execution_count": 6,
   "id": "a64f385a",
   "metadata": {},
   "outputs": [],
   "source": [
    "dir = r'C:\\Users\\Afonso\\anaconda3\\envs\\hello-tf\\ResNet50'\n",
    "test_dir = os.path.join(dir,'test')"
   ]
  },
  {
   "cell_type": "code",
   "execution_count": 7,
   "id": "e3ad71d7",
   "metadata": {},
   "outputs": [
    {
     "name": "stdout",
     "output_type": "stream",
     "text": [
      "Found 3410 files belonging to 62 classes.\n"
     ]
    }
   ],
   "source": [
    "test_ds = tf.keras.preprocessing.image_dataset_from_directory(\n",
    "  data_dir,\n",
    "  seed=123,\n",
    "  image_size=(img_height, img_width),\n",
    "  label_mode = 'categorical',\n",
    "  batch_size=batch_size)"
   ]
  },
  {
   "cell_type": "code",
   "execution_count": 8,
   "id": "c840a18c",
   "metadata": {},
   "outputs": [],
   "source": [
    "## Autotune \n",
    "AUTOTUNE = tf.data.AUTOTUNE\n",
    "\n",
    "train_ds = train_ds.prefetch(buffer_size=AUTOTUNE)\n",
    "valid_ds = val_ds.prefetch(buffer_size=AUTOTUNE)\n",
    "test_ds = test_ds.prefetch(buffer_size=AUTOTUNE)"
   ]
  },
  {
   "cell_type": "code",
   "execution_count": 31,
   "id": "cde2a490",
   "metadata": {},
   "outputs": [
    {
     "name": "stdout",
     "output_type": "stream",
     "text": [
      "WARNING:tensorflow:`input_shape` is undefined or non-square, or `rows` is not in [96, 128, 160, 192, 224]. Weights for input shape (224, 224) will be loaded as the default.\n"
     ]
    }
   ],
   "source": [
    "mobilenetv2_model = Sequential()\n",
    "\n",
    "pretrained_model= tf.keras.applications.MobileNetV2(include_top=False,\n",
    "                   input_shape=(180,180,3),\n",
    "                   pooling='avg',classes=62,\n",
    "                   weights='imagenet')\n",
    "\n",
    "for layer in pretrained_model.layers:\n",
    "        layer.trainable=False\n",
    "\n",
    "mobilenetv2_model.add(pretrained_model)\n",
    "\n",
    "mobilenetv2_model.add(Flatten())\n",
    "mobilenetv2_model.add(Dense(512, activation='relu'))\n",
    "mobilenetv2_model.add(Dense(62, activation='softmax'))\n",
    "mobilenetv2_model.add(Dropout(0.2))"
   ]
  },
  {
   "cell_type": "code",
   "execution_count": 32,
   "id": "a0dabadd",
   "metadata": {},
   "outputs": [
    {
     "name": "stdout",
     "output_type": "stream",
     "text": [
      "Model: \"sequential_3\"\n",
      "_________________________________________________________________\n",
      " Layer (type)                Output Shape              Param #   \n",
      "=================================================================\n",
      " mobilenetv2_1.00_224 (Funct  (None, 1280)             2257984   \n",
      " ional)                                                          \n",
      "                                                                 \n",
      " flatten_3 (Flatten)         (None, 1280)              0         \n",
      "                                                                 \n",
      " dense_6 (Dense)             (None, 512)               655872    \n",
      "                                                                 \n",
      " dense_7 (Dense)             (None, 62)                31806     \n",
      "                                                                 \n",
      " dropout (Dropout)           (None, 62)                0         \n",
      "                                                                 \n",
      "=================================================================\n",
      "Total params: 2,945,662\n",
      "Trainable params: 687,678\n",
      "Non-trainable params: 2,257,984\n",
      "_________________________________________________________________\n"
     ]
    }
   ],
   "source": [
    "mobilenetv2_model.summary()"
   ]
  },
  {
   "cell_type": "code",
   "execution_count": 33,
   "id": "158f5618",
   "metadata": {},
   "outputs": [],
   "source": [
    "mobilenetv2_model.compile(optimizer=Adam(learning_rate=0.0001),loss=tf.keras.losses.CategoricalCrossentropy(from_logits=True),metrics=['accuracy'])"
   ]
  },
  {
   "cell_type": "code",
   "execution_count": 34,
   "id": "882ba498",
   "metadata": {},
   "outputs": [
    {
     "name": "stdout",
     "output_type": "stream",
     "text": [
      "107/107 [==============================] - 115s 823ms/step - loss: 4.1272 - accuracy: 0.0152\n"
     ]
    }
   ],
   "source": [
    "loss0, accuracy0 = mobilenetv2_model.evaluate(test_ds)"
   ]
  },
  {
   "cell_type": "code",
   "execution_count": 14,
   "id": "8ecfda3f",
   "metadata": {},
   "outputs": [
    {
     "name": "stdout",
     "output_type": "stream",
     "text": [
      "Epoch 1/10\n",
      "86/86 [==============================] - 78s 851ms/step - loss: 3.5623 - accuracy: 0.1811 - val_loss: 2.8133 - val_accuracy: 0.3504\n",
      "Epoch 2/10\n",
      "86/86 [==============================] - 75s 858ms/step - loss: 2.2460 - accuracy: 0.5007 - val_loss: 1.9250 - val_accuracy: 0.5733\n",
      "Epoch 3/10\n",
      "86/86 [==============================] - 76s 868ms/step - loss: 1.5779 - accuracy: 0.6492 - val_loss: 1.5132 - val_accuracy: 0.6422\n",
      "Epoch 4/10\n",
      "86/86 [==============================] - 76s 868ms/step - loss: 1.2275 - accuracy: 0.7232 - val_loss: 1.2802 - val_accuracy: 0.6833\n",
      "Epoch 5/10\n",
      "86/86 [==============================] - 76s 876ms/step - loss: 1.0211 - accuracy: 0.7636 - val_loss: 1.1377 - val_accuracy: 0.7170\n",
      "Epoch 6/10\n",
      "86/86 [==============================] - 76s 873ms/step - loss: 0.8694 - accuracy: 0.7984 - val_loss: 1.0417 - val_accuracy: 0.7243\n",
      "Epoch 7/10\n",
      "86/86 [==============================] - 81s 935ms/step - loss: 0.7672 - accuracy: 0.8200 - val_loss: 0.9826 - val_accuracy: 0.7405\n",
      "Epoch 8/10\n",
      "86/86 [==============================] - 83s 949ms/step - loss: 0.6882 - accuracy: 0.8369 - val_loss: 0.9298 - val_accuracy: 0.7449\n",
      "Epoch 9/10\n",
      "86/86 [==============================] - 78s 892ms/step - loss: 0.6115 - accuracy: 0.8552 - val_loss: 0.8813 - val_accuracy: 0.7654\n",
      "Epoch 10/10\n",
      "86/86 [==============================] - 78s 897ms/step - loss: 0.5538 - accuracy: 0.8750 - val_loss: 0.8547 - val_accuracy: 0.7581\n"
     ]
    }
   ],
   "source": [
    "history = mobilenetv2_model.fit(train_ds, validation_data=val_ds, epochs=10)"
   ]
  },
  {
   "cell_type": "code",
   "execution_count": 35,
   "id": "a3637eab",
   "metadata": {},
   "outputs": [
    {
     "name": "stdout",
     "output_type": "stream",
     "text": [
      "Mean Validation Accuracy: 0.6699413448572159\n",
      "Mean Training Accuracy:0.7003299117088317\n",
      "Mean Validation Loss: 1.3359593510627747\n",
      "Mean Training Loss:1.3125063538551331\n"
     ]
    },
    {
     "data": {
      "image/png": "[encoded data removed]",
      "text/plain": [
       "<Figure size 576x1080 with 2 Axes>"
      ]
     },
     "metadata": {
      "needs_background": "light"
     },
     "output_type": "display_data"
    }
   ],
   "source": [
    "acc = history.history['accuracy']\n",
    "val_acc = history.history['val_accuracy']\n",
    "\n",
    "loss = history.history['loss']\n",
    "val_loss = history.history['val_loss']\n",
    "\n",
    "#Means of accuracy\n",
    "sum_acc = 0\n",
    "for i in range(len(acc)):\n",
    "    sum_acc = sum_acc + acc[i]\n",
    "    acc_mean = sum_acc / len(acc)\n",
    "\n",
    "sum_val_acc = 0\n",
    "for i in range(len(val_acc)):\n",
    "    sum_val_acc = sum_val_acc + val_acc[i]\n",
    "    val_acc_mean = sum_val_acc / len(val_acc)\n",
    "\n",
    "print('Mean Validation Accuracy: ' + str(val_acc_mean))\n",
    "print('Mean Training Accuracy:' + str(acc_mean))\n",
    "\n",
    "#Means of Loss\n",
    "sum_loss = 0\n",
    "for i in range(len(loss)):\n",
    "    sum_loss = sum_loss + loss[i]\n",
    "    loss_mean = sum_loss / len(loss)\n",
    "\n",
    "sum_val_loss = 0\n",
    "for i in range(len(val_loss)):\n",
    "    sum_val_loss = sum_val_loss + val_loss[i]\n",
    "    val_loss_mean = sum_val_loss / len(val_loss)\n",
    "\n",
    "print('Mean Validation Loss: ' + str(val_loss_mean))\n",
    "print('Mean Training Loss:' + str(loss_mean))\n",
    "\n",
    "\n",
    "plt.figure(figsize=(8, 15))\n",
    "plt.subplot(2, 1, 1)\n",
    "plt.plot(acc, label='Training Accuracy')\n",
    "plt.plot(val_acc, label='Validation Accuracy')\n",
    "plt.legend(loc='lower right')\n",
    "plt.ylabel('Accuracy')\n",
    "plt.ylim([min(plt.ylim()),1])\n",
    "plt.title('Training and Validation Accuracy - ResNet50')\n",
    "plt.xlabel('epoch')\n",
    "\n",
    "plt.subplot(2, 1, 2)\n",
    "plt.plot(loss, label='Training Loss')\n",
    "plt.plot(val_loss, label='Validation Loss')\n",
    "plt.legend(loc='upper right')\n",
    "plt.ylabel('Cross Entropy')\n",
    "#plt.ylim([0,1.0])\n",
    "plt.ylim([min(plt.ylim()),4])\n",
    "plt.title('Training and Validation Loss - ResNet50')\n",
    "plt.xlabel('epoch')\n",
    "plt.show()"
   ]
  },
  {
   "cell_type": "code",
   "execution_count": 16,
   "id": "7ec7afce",
   "metadata": {},
   "outputs": [],
   "source": [
    "## Fine Tunning \n",
    "mobilenetv2_model.trainable = True ##unfreeze top layers "
   ]
  },
  {
   "cell_type": "code",
   "execution_count": 18,
   "id": "f57e3ad8",
   "metadata": {},
   "outputs": [
    {
     "name": "stdout",
     "output_type": "stream",
     "text": [
      "Number of layers in the base model:  4\n"
     ]
    }
   ],
   "source": [
    "# Let's take a look to see how many layers are in the base model\n",
    "print(\"Number of layers in the base model: \", len(mobilenetv2_model.layers))\n",
    "\n",
    "# Fine-tune from this layer onwards\n",
    "fine_tune_at = 1\n",
    "\n",
    "# Freeze all the layers before the `fine_tune_at` layer\n",
    "for layer in mobilenetv2_model.layers[:fine_tune_at]:\n",
    "        layer.trainable =  False"
   ]
  },
  {
   "cell_type": "code",
   "execution_count": 19,
   "id": "c83464c8",
   "metadata": {},
   "outputs": [],
   "source": [
    "mobilenetv2_model.compile(loss=tf.keras.losses.CategoricalCrossentropy(from_logits=True),\n",
    "              optimizer = tf.keras.optimizers.RMSprop(learning_rate=0.0001),\n",
    "              metrics=['accuracy'])"
   ]
  },
  {
   "cell_type": "code",
   "execution_count": 20,
   "id": "dc9bda1a",
   "metadata": {},
   "outputs": [
    {
     "name": "stdout",
     "output_type": "stream",
     "text": [
      "Model: \"sequential\"\n",
      "_________________________________________________________________\n",
      " Layer (type)                Output Shape              Param #   \n",
      "=================================================================\n",
      " mobilenetv2_1.00_224 (Funct  (None, 1280)             2257984   \n",
      " ional)                                                          \n",
      "                                                                 \n",
      " flatten (Flatten)           (None, 1280)              0         \n",
      "                                                                 \n",
      " dense (Dense)               (None, 512)               655872    \n",
      "                                                                 \n",
      " dense_1 (Dense)             (None, 62)                31806     \n",
      "                                                                 \n",
      "=================================================================\n",
      "Total params: 2,945,662\n",
      "Trainable params: 687,678\n",
      "Non-trainable params: 2,257,984\n",
      "_________________________________________________________________\n"
     ]
    }
   ],
   "source": [
    "mobilenetv2_model.summary()"
   ]
  },
  {
   "cell_type": "code",
   "execution_count": 21,
   "id": "adf8e8c4",
   "metadata": {},
   "outputs": [
    {
     "name": "stdout",
     "output_type": "stream",
     "text": [
      "Epoch 10/20\n",
      "86/86 [==============================] - 80s 874ms/step - loss: 0.5228 - accuracy: 0.8765 - val_loss: 0.8269 - val_accuracy: 0.7551\n",
      "Epoch 11/20\n",
      "86/86 [==============================] - 76s 872ms/step - loss: 0.4619 - accuracy: 0.8941 - val_loss: 0.8063 - val_accuracy: 0.7522\n",
      "Epoch 12/20\n",
      "86/86 [==============================] - 83s 956ms/step - loss: 0.4205 - accuracy: 0.9069 - val_loss: 0.7748 - val_accuracy: 0.7727\n",
      "Epoch 13/20\n",
      "86/86 [==============================] - 79s 903ms/step - loss: 0.3825 - accuracy: 0.9168 - val_loss: 0.7513 - val_accuracy: 0.7845\n",
      "Epoch 14/20\n",
      "86/86 [==============================] - 77s 889ms/step - loss: 0.3485 - accuracy: 0.9256 - val_loss: 0.7607 - val_accuracy: 0.7727\n",
      "Epoch 15/20\n",
      "86/86 [==============================] - 79s 907ms/step - loss: 0.3214 - accuracy: 0.9377 - val_loss: 0.7353 - val_accuracy: 0.7845\n",
      "Epoch 16/20\n",
      "86/86 [==============================] - 76s 878ms/step - loss: 0.2913 - accuracy: 0.9417 - val_loss: 0.7185 - val_accuracy: 0.7845\n",
      "Epoch 17/20\n",
      "86/86 [==============================] - 82s 938ms/step - loss: 0.2705 - accuracy: 0.9454 - val_loss: 0.6986 - val_accuracy: 0.7991\n",
      "Epoch 18/20\n",
      "86/86 [==============================] - 77s 884ms/step - loss: 0.2459 - accuracy: 0.9560 - val_loss: 0.7026 - val_accuracy: 0.7889\n",
      "Epoch 19/20\n",
      "86/86 [==============================] - 80s 924ms/step - loss: 0.2279 - accuracy: 0.9582 - val_loss: 0.6984 - val_accuracy: 0.7874\n",
      "Epoch 20/20\n",
      "86/86 [==============================] - 79s 905ms/step - loss: 0.2079 - accuracy: 0.9644 - val_loss: 0.6992 - val_accuracy: 0.7889\n"
     ]
    }
   ],
   "source": [
    "history_fine = mobilenetv2_model.fit(train_ds,\n",
    "                         epochs=20,\n",
    "                         initial_epoch=history.epoch[-1],\n",
    "                         validation_data=val_ds)"
   ]
  },
  {
   "cell_type": "code",
   "execution_count": 22,
   "id": "c48b40da",
   "metadata": {},
   "outputs": [],
   "source": [
    "acc = history_fine.history['accuracy']\n",
    "val_acc = history_fine.history['val_accuracy']\n",
    "\n",
    "loss = history_fine.history['loss']\n",
    "val_loss = history_fine.history['val_loss']"
   ]
  },
  {
   "cell_type": "code",
   "execution_count": 27,
   "id": "35ddae50",
   "metadata": {
    "scrolled": false
   },
   "outputs": [
    {
     "name": "stdout",
     "output_type": "stream",
     "text": [
      "Mean Validation Accuracy: 0.7791255766695196\n",
      "Mean Training Accuracy:0.9293854941021312\n",
      "Mean Validation Loss: 0.7429543029178273\n",
      "Mean Training Loss:0.3364745622331446\n"
     ]
    },
    {
     "data": {
      "image/png": "[encoded data removed]",
      "text/plain": [
       "<Figure size 576x1080 with 2 Axes>"
      ]
     },
     "metadata": {
      "needs_background": "light"
     },
     "output_type": "display_data"
    }
   ],
   "source": [
    "#Means of accuracy\n",
    "sum_acc = 0\n",
    "for i in range(len(acc)):\n",
    "    sum_acc = sum_acc + acc[i]\n",
    "    acc_mean = sum_acc / len(acc)\n",
    "\n",
    "sum_val_acc = 0\n",
    "for i in range(len(val_acc)):\n",
    "    sum_val_acc = sum_val_acc + val_acc[i]\n",
    "    val_acc_mean = sum_val_acc / len(val_acc)\n",
    "\n",
    "print('Mean Validation Accuracy: ' + str(val_acc_mean))\n",
    "print('Mean Training Accuracy:' + str(acc_mean))\n",
    "\n",
    "#Means of Loss\n",
    "sum_loss = 0\n",
    "for i in range(len(loss)):\n",
    "    sum_loss = sum_loss + loss[i]\n",
    "    loss_mean = sum_loss / len(loss)\n",
    "\n",
    "sum_val_loss = 0\n",
    "for i in range(len(val_loss)):\n",
    "    sum_val_loss = sum_val_loss + val_loss[i]\n",
    "    val_loss_mean = sum_val_loss / len(val_loss)\n",
    "\n",
    "print('Mean Validation Loss: ' + str(val_loss_mean))\n",
    "print('Mean Training Loss:' + str(loss_mean))\n",
    "\n",
    "\n",
    "\n",
    "plt.figure(figsize=(8, 15))\n",
    "plt.subplot(2, 1, 1)\n",
    "plt.plot(acc, label='Training Accuracy')\n",
    "plt.plot(val_acc, label='Validation Accuracy')\n",
    "plt.ylim([0.5, 1])\n",
    "plt.plot([10-1,10-1],\n",
    "          plt.ylim(), label='Start Fine Tuning')\n",
    "plt.legend(loc='lower right')\n",
    "plt.title('Training and Validation Accuracy - MobileNetV2')\n",
    "\n",
    "plt.subplot(2, 1, 2)\n",
    "plt.plot(loss, label='Training Loss')\n",
    "plt.plot(val_loss, label='Validation Loss')\n",
    "plt.ylim([0, 1.0])\n",
    "plt.plot([10-1,10-1],\n",
    "         plt.ylim(), label='Start Fine Tuning')\n",
    "plt.legend(loc='upper right')\n",
    "plt.title('Training and Validation Loss - MobileNetV2')\n",
    "plt.xlabel('epoch')\n",
    "plt.show()"
   ]
  },
  {
   "cell_type": "code",
   "execution_count": 24,
   "id": "6d9a5514",
   "metadata": {},
   "outputs": [
    {
     "name": "stdout",
     "output_type": "stream",
     "text": [
      "107/107 [==============================] - 79s 723ms/step - loss: 0.2941 - accuracy: 0.9323\n",
      "Test loss: 0.29406896233558655\n",
      "Test accuracy: 0.9322580695152283\n"
     ]
    }
   ],
   "source": [
    "score = mobilenetv2_model.evaluate(test_ds)\n",
    "print('Test loss:', score[0]) \n",
    "print('Test accuracy:', score[1])"
   ]
  },
  {
   "cell_type": "code",
   "execution_count": 26,
   "id": "b2d6ae67",
   "metadata": {},
   "outputs": [
    {
     "name": "stdout",
     "output_type": "stream",
     "text": [
      "Predictions:\n",
      " [1 1 1 ... 1 1 1]\n",
      "Labels:\n",
      " [[0. 0. 0. ... 0. 0. 0.]\n",
      " [0. 0. 0. ... 0. 1. 0.]\n",
      " [0. 0. 0. ... 0. 0. 0.]\n",
      " ...\n",
      " [0. 0. 0. ... 0. 0. 0.]\n",
      " [0. 0. 0. ... 0. 0. 0.]\n",
      " [0. 0. 0. ... 1. 0. 0.]]\n"
     ]
    }
   ],
   "source": [
    "#Retrieve a batch of images from the test set\n",
    "image_batch, label_batch = test_ds.as_numpy_iterator().next()\n",
    "predictions = mobilenetv2_model.predict_on_batch(image_batch).flatten()\n",
    "\n",
    "# Apply a sigmoid since our model returns logits\n",
    "predictions = tf.nn.sigmoid(predictions)\n",
    "predictions = tf.where(predictions < 0.5, 0, 1)\n",
    "\n",
    "print('Predictions:\\n', predictions.numpy())\n",
    "print('Labels:\\n', label_batch)\n"
   ]
  },
  {
   "cell_type": "code",
   "execution_count": null,
   "id": "83f28b6d",
   "metadata": {},
   "outputs": [],
   "source": []
  }
 ],
 "metadata": {
  "kernelspec": {
   "display_name": "Python 3 (ipykernel)",
   "language": "python",
   "name": "python3"
  },
  "language_info": {
   "codemirror_mode": {
    "name": "ipython",
    "version": 3
   },
   "file_extension": ".py",
   "mimetype": "text/x-python",
   "name": "python",
   "nbconvert_exporter": "python",
   "pygments_lexer": "ipython3",
   "version": "3.7.11"
  }
 },
 "nbformat": 4,
 "nbformat_minor": 5
}
